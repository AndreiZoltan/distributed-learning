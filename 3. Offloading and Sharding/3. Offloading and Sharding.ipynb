{
 "cells": [
  {
   "cell_type": "markdown",
   "id": "6d3c9e68",
   "metadata": {},
   "source": [
    "# Offloading and Sharding"
   ]
  },
  {
   "cell_type": "markdown",
   "id": "e082eb5c",
   "metadata": {},
   "source": [
    "## Automatic Mixed Precision\n",
    "\n",
    "\n",
    "- [Apex](https://github.com/NVIDIA/apex)\n",
    "- Float16, BFloat16, Tensorfloat32\n",
    "- [Torch.amp](https://pytorch.org/docs/stable/amp.html)\n",
    "\n",
    "Попробуем добавить AMP."
   ]
  },
  {
   "cell_type": "markdown",
   "id": "9abc729a",
   "metadata": {},
   "source": [
    "![](https://developer-blogs.nvidia.com/wp-content/uploads/2019/01/pasted-image-0-21.png)"
   ]
  },
  {
   "cell_type": "markdown",
   "id": "3ba16e35",
   "metadata": {},
   "source": [
    "## ZeRO (sharding)\n",
    "\n",
    "- [ZeRO](https://arxiv.org/pdf/1910.02054.pdf)\n",
    "- [deepspeed](https://www.deepspeed.ai/)\n",
    "\n",
    "Попробуем вставить его в наш код!"
   ]
  },
  {
   "cell_type": "markdown",
   "id": "90499e6b",
   "metadata": {},
   "source": [
    "## Fully Sharded Data Parallel (offloading)\n",
    "\n",
    "\n",
    "- [ZeRO stage-infinity](https://arxiv.org/pdf/2104.07857.pdf)\n",
    "- [FSDP](https://pytorch.org/docs/stable/fsdp.html)"
   ]
  },
  {
   "cell_type": "markdown",
   "id": "57454a09",
   "metadata": {},
   "source": [
    "## Elastic and Petals\n",
    "\n",
    "- [Elastic](https://pytorch.org/docs/stable/distributed.elastic.html)\n",
    "- [Hivemind](https://github.com/learning-at-home/hivemind)\n",
    "- [Petals](https://colab.research.google.com/drive/1Ervk6HPNS6AYVr3xVdQnY5a-TjjmLCdQ?usp=sharing)"
   ]
  },
  {
   "cell_type": "markdown",
   "id": "678d939c",
   "metadata": {},
   "source": [
    "## HW\n",
    "\n",
    "Добавьте deepspeed в ваш фреймворк: флаги \"--deepspeed\" и \"--deepspeed-stage\" включают его, а через \"--deepspeed-cpu-offload\" добавляют оффлоадинг на cpu.\n",
    "\n",
    "Дополнительная сложность: добавление FSDP через флаг \"--fsdp\""
   ]
  },
  {
   "cell_type": "code",
   "execution_count": null,
   "id": "54874c10",
   "metadata": {},
   "outputs": [],
   "source": []
  }
 ],
 "metadata": {
  "kernelspec": {
   "display_name": "Python 3 (ipykernel)",
   "language": "python",
   "name": "python3"
  },
  "language_info": {
   "codemirror_mode": {
    "name": "ipython",
    "version": 3
   },
   "file_extension": ".py",
   "mimetype": "text/x-python",
   "name": "python",
   "nbconvert_exporter": "python",
   "pygments_lexer": "ipython3",
   "version": "3.8.10"
  }
 },
 "nbformat": 4,
 "nbformat_minor": 5
}
